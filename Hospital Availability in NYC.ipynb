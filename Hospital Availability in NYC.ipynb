{
 "cells": [
  {
   "cell_type": "markdown",
   "metadata": {},
   "source": [
    "# Hospitalization Fcailities in New York City\n",
    "\n",
    "In this study, I will try to create a picture of the existing Hospitalization facuilities in New York City related to the population distribution.\n",
    "\n",
    "The study should pinpoint the locations where new Hospitals are needed at the present.\n",
    "\n",
    "A more precice measure of healthcare availability is usually based on hospital beds per capita. But such data may not be available per hospital, so I will stick to hospital per capita, which can be a measure of the availability of, at least, emergency care."
   ]
  },
  {
   "cell_type": "markdown",
   "metadata": {},
   "source": [
    "## Steps of the study\n",
    "\n",
    " The study will start with the data collection from different online resources with special care for the reliability of the data sources, target data will be:\n",
    " \n",
    "1- Population distribution\n",
    "\n",
    "2- Number of Hospitals with their repective locations\n",
    "\n",
    "\n",
    "## Then the relations will be created for:\n",
    " \n",
    "1- Hospitals per capita for every Neighbourhood\n",
    "\n",
    "2- The average distance to any hospital within the city\n",
    "\n",
    "3- Identifying the Neighbourhoods least served by hospitals to recommend investing in new hospitals"
   ]
  },
  {
   "cell_type": "markdown",
   "metadata": {},
   "source": [
    "## Data Sources\n",
    "\n",
    "NYC OpenDate\n",
    "\n",
    "https://data.cityofnewyork.us/City-Government/New-York-City-Population-By-Neighborhood-Tabulatio/swpk-hqdp\n",
    "\n",
    "FourSquare API\n",
    "\n",
    "https://developer.foursquare.com/docs/build-with-foursquare/categories/"
   ]
  }
 ],
 "metadata": {
  "kernelspec": {
   "display_name": "Python 3",
   "language": "python",
   "name": "python3"
  },
  "language_info": {
   "codemirror_mode": {
    "name": "ipython",
    "version": 3
   },
   "file_extension": ".py",
   "mimetype": "text/x-python",
   "name": "python",
   "nbconvert_exporter": "python",
   "pygments_lexer": "ipython3",
   "version": "3.7.6"
  }
 },
 "nbformat": 4,
 "nbformat_minor": 4
}

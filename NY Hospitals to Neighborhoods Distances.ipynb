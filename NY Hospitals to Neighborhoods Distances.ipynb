{
 "cells": [
  {
   "cell_type": "markdown",
   "metadata": {},
   "source": [
    "# NYC: Hospitals to Neighbourhoods\n",
    "\n",
    "### In this notebook, the data collected about the hospitals, will be used to determine how much hospital care is available for each neighbourhood\n",
    "\n",
    "The parameters calculared will be:\n",
    "\n",
    "1- The average distance between the neghbourhood and every available hospital in NYC\n",
    "\n",
    "2- The number of hospitals available within a radius of 2KM from the neghbourhood"
   ]
  },
  {
   "cell_type": "markdown",
   "metadata": {},
   "source": [
    "### Importing necessary libraries"
   ]
  },
  {
   "cell_type": "code",
   "execution_count": 1,
   "metadata": {},
   "outputs": [],
   "source": [
    "import numpy as np # library to handle data in a vectorized manner\n",
    "\n",
    "import pandas as pd # library for data analsysis\n",
    "pd.set_option('display.max_columns', None)\n",
    "pd.set_option('display.max_rows', None)\n",
    "\n",
    "import json # library to handle JSON files\n",
    "import geopy.distance\n",
    "#!conda install -c conda-forge geopy --yes # uncomment this line if you haven't completed the Foursquare API lab\n",
    "from geopy.geocoders import Nominatim # convert an address into latitude and longitude values\n",
    "\n",
    "import requests # library to handle requests\n",
    "from pandas.io.json import json_normalize # tranform JSON file into a pandas dataframe"
   ]
  },
  {
   "cell_type": "markdown",
   "metadata": {},
   "source": [
    "### Loading hospitals data and selecting the unique occurances"
   ]
  },
  {
   "cell_type": "code",
   "execution_count": 2,
   "metadata": {},
   "outputs": [
    {
     "data": {
      "text/plain": [
       "(1039, 9)"
      ]
     },
     "execution_count": 2,
     "metadata": {},
     "output_type": "execute_result"
    }
   ],
   "source": [
    "NYHospitals=pd.read_csv('NYHospitals.csv')\n",
    "UnHos=NYHospitals.drop_duplicates()\n",
    "UnHos.shape"
   ]
  },
  {
   "cell_type": "code",
   "execution_count": 3,
   "metadata": {},
   "outputs": [
    {
     "data": {
      "text/html": [
       "<div>\n",
       "<style scoped>\n",
       "    .dataframe tbody tr th:only-of-type {\n",
       "        vertical-align: middle;\n",
       "    }\n",
       "\n",
       "    .dataframe tbody tr th {\n",
       "        vertical-align: top;\n",
       "    }\n",
       "\n",
       "    .dataframe thead th {\n",
       "        text-align: right;\n",
       "    }\n",
       "</style>\n",
       "<table border=\"1\" class=\"dataframe\">\n",
       "  <thead>\n",
       "    <tr style=\"text-align: right;\">\n",
       "      <th></th>\n",
       "      <th>name</th>\n",
       "      <th>categories</th>\n",
       "      <th>lat</th>\n",
       "      <th>lng</th>\n",
       "      <th>id</th>\n",
       "      <th>city</th>\n",
       "      <th>state</th>\n",
       "      <th>formattedAddress</th>\n",
       "      <th>labeledLatLngs</th>\n",
       "    </tr>\n",
       "  </thead>\n",
       "  <tbody>\n",
       "    <tr>\n",
       "      <th>0</th>\n",
       "      <td>Montefiore Medical Center - Wakefield Campus</td>\n",
       "      <td>Hospital</td>\n",
       "      <td>40.894207</td>\n",
       "      <td>-73.860790</td>\n",
       "      <td>4addedeaf964a520646621e3</td>\n",
       "      <td>Bronx</td>\n",
       "      <td>NY</td>\n",
       "      <td>['600 E 233rd St (Carpenter Ave.)', 'Bronx, NY...</td>\n",
       "      <td>[{'label': 'display', 'lat': 40.89420660561763...</td>\n",
       "    </tr>\n",
       "    <tr>\n",
       "      <th>1</th>\n",
       "      <td>Montefiore Medical Pavillion</td>\n",
       "      <td>Medical Center</td>\n",
       "      <td>40.880135</td>\n",
       "      <td>-73.878712</td>\n",
       "      <td>4db854784b22f2ddb6399a1b</td>\n",
       "      <td>Bronx</td>\n",
       "      <td>NY</td>\n",
       "      <td>['3400 Bainbridge Ave', 'Bronx, NY 10467', 'Un...</td>\n",
       "      <td>[{'label': 'display', 'lat': 40.88013478363959...</td>\n",
       "    </tr>\n",
       "    <tr>\n",
       "      <th>2</th>\n",
       "      <td>Montefiore Medical Center Mount Vernon</td>\n",
       "      <td>Hospital</td>\n",
       "      <td>40.913123</td>\n",
       "      <td>-73.840528</td>\n",
       "      <td>4c051aa973a8c9b6a7f196e0</td>\n",
       "      <td>Mount Vernon</td>\n",
       "      <td>NY</td>\n",
       "      <td>['12 N 7th Ave', 'Mount Vernon, NY 10550', 'Un...</td>\n",
       "      <td>[{'label': 'display', 'lat': 40.91312340197153...</td>\n",
       "    </tr>\n",
       "    <tr>\n",
       "      <th>3</th>\n",
       "      <td>The Children’s Hospital at Montefiore</td>\n",
       "      <td>Hospital</td>\n",
       "      <td>40.880640</td>\n",
       "      <td>-73.879153</td>\n",
       "      <td>4c3e307edb3b1b8d56106595</td>\n",
       "      <td>Bronx</td>\n",
       "      <td>NY</td>\n",
       "      <td>['3415 Bainbridge Ave (at E Gun Hill Rd)', 'Br...</td>\n",
       "      <td>[{'label': 'display', 'lat': 40.88063954722417...</td>\n",
       "    </tr>\n",
       "    <tr>\n",
       "      <th>4</th>\n",
       "      <td>North Central Bronx Hospital</td>\n",
       "      <td>Hospital</td>\n",
       "      <td>40.880441</td>\n",
       "      <td>-73.881526</td>\n",
       "      <td>4b6de6a8f964a520439a2ce3</td>\n",
       "      <td>Bronx</td>\n",
       "      <td>NY</td>\n",
       "      <td>['3224 Kossuth Ave (at E 208th St)', 'Bronx, N...</td>\n",
       "      <td>[{'label': 'display', 'lat': 40.88044133267162...</td>\n",
       "    </tr>\n",
       "  </tbody>\n",
       "</table>\n",
       "</div>"
      ],
      "text/plain": [
       "                                           name      categories        lat  \\\n",
       "0  Montefiore Medical Center - Wakefield Campus        Hospital  40.894207   \n",
       "1                  Montefiore Medical Pavillion  Medical Center  40.880135   \n",
       "2        Montefiore Medical Center Mount Vernon        Hospital  40.913123   \n",
       "3         The Children’s Hospital at Montefiore        Hospital  40.880640   \n",
       "4                  North Central Bronx Hospital        Hospital  40.880441   \n",
       "\n",
       "         lng                        id          city state  \\\n",
       "0 -73.860790  4addedeaf964a520646621e3         Bronx    NY   \n",
       "1 -73.878712  4db854784b22f2ddb6399a1b         Bronx    NY   \n",
       "2 -73.840528  4c051aa973a8c9b6a7f196e0  Mount Vernon    NY   \n",
       "3 -73.879153  4c3e307edb3b1b8d56106595         Bronx    NY   \n",
       "4 -73.881526  4b6de6a8f964a520439a2ce3         Bronx    NY   \n",
       "\n",
       "                                    formattedAddress  \\\n",
       "0  ['600 E 233rd St (Carpenter Ave.)', 'Bronx, NY...   \n",
       "1  ['3400 Bainbridge Ave', 'Bronx, NY 10467', 'Un...   \n",
       "2  ['12 N 7th Ave', 'Mount Vernon, NY 10550', 'Un...   \n",
       "3  ['3415 Bainbridge Ave (at E Gun Hill Rd)', 'Br...   \n",
       "4  ['3224 Kossuth Ave (at E 208th St)', 'Bronx, N...   \n",
       "\n",
       "                                      labeledLatLngs  \n",
       "0  [{'label': 'display', 'lat': 40.89420660561763...  \n",
       "1  [{'label': 'display', 'lat': 40.88013478363959...  \n",
       "2  [{'label': 'display', 'lat': 40.91312340197153...  \n",
       "3  [{'label': 'display', 'lat': 40.88063954722417...  \n",
       "4  [{'label': 'display', 'lat': 40.88044133267162...  "
      ]
     },
     "execution_count": 3,
     "metadata": {},
     "output_type": "execute_result"
    }
   ],
   "source": [
    "UnHos.head()"
   ]
  },
  {
   "cell_type": "markdown",
   "metadata": {},
   "source": [
    "## Loading the neghbourhood data"
   ]
  },
  {
   "cell_type": "code",
   "execution_count": 4,
   "metadata": {},
   "outputs": [
    {
     "data": {
      "text/plain": [
       "(306, 4)"
      ]
     },
     "execution_count": 4,
     "metadata": {},
     "output_type": "execute_result"
    }
   ],
   "source": [
    "NYNeighborhoods=pd.read_csv('NYNeighborhoods.csv')\n",
    "NYNeighborhoods.shape"
   ]
  },
  {
   "cell_type": "code",
   "execution_count": 5,
   "metadata": {},
   "outputs": [
    {
     "data": {
      "text/html": [
       "<div>\n",
       "<style scoped>\n",
       "    .dataframe tbody tr th:only-of-type {\n",
       "        vertical-align: middle;\n",
       "    }\n",
       "\n",
       "    .dataframe tbody tr th {\n",
       "        vertical-align: top;\n",
       "    }\n",
       "\n",
       "    .dataframe thead th {\n",
       "        text-align: right;\n",
       "    }\n",
       "</style>\n",
       "<table border=\"1\" class=\"dataframe\">\n",
       "  <thead>\n",
       "    <tr style=\"text-align: right;\">\n",
       "      <th></th>\n",
       "      <th>Borough</th>\n",
       "      <th>Neighborhood</th>\n",
       "      <th>Latitude</th>\n",
       "      <th>Longitude</th>\n",
       "    </tr>\n",
       "  </thead>\n",
       "  <tbody>\n",
       "    <tr>\n",
       "      <th>0</th>\n",
       "      <td>Bronx</td>\n",
       "      <td>Wakefield</td>\n",
       "      <td>40.894705</td>\n",
       "      <td>-73.847201</td>\n",
       "    </tr>\n",
       "    <tr>\n",
       "      <th>1</th>\n",
       "      <td>Bronx</td>\n",
       "      <td>Co-op City</td>\n",
       "      <td>40.874294</td>\n",
       "      <td>-73.829939</td>\n",
       "    </tr>\n",
       "    <tr>\n",
       "      <th>2</th>\n",
       "      <td>Bronx</td>\n",
       "      <td>Eastchester</td>\n",
       "      <td>40.887556</td>\n",
       "      <td>-73.827806</td>\n",
       "    </tr>\n",
       "    <tr>\n",
       "      <th>3</th>\n",
       "      <td>Bronx</td>\n",
       "      <td>Fieldston</td>\n",
       "      <td>40.895437</td>\n",
       "      <td>-73.905643</td>\n",
       "    </tr>\n",
       "    <tr>\n",
       "      <th>4</th>\n",
       "      <td>Bronx</td>\n",
       "      <td>Riverdale</td>\n",
       "      <td>40.890834</td>\n",
       "      <td>-73.912585</td>\n",
       "    </tr>\n",
       "  </tbody>\n",
       "</table>\n",
       "</div>"
      ],
      "text/plain": [
       "  Borough Neighborhood   Latitude  Longitude\n",
       "0   Bronx    Wakefield  40.894705 -73.847201\n",
       "1   Bronx   Co-op City  40.874294 -73.829939\n",
       "2   Bronx  Eastchester  40.887556 -73.827806\n",
       "3   Bronx    Fieldston  40.895437 -73.905643\n",
       "4   Bronx    Riverdale  40.890834 -73.912585"
      ]
     },
     "execution_count": 5,
     "metadata": {},
     "output_type": "execute_result"
    }
   ],
   "source": [
    "NYNeighborhoods.head()"
   ]
  },
  {
   "cell_type": "markdown",
   "metadata": {},
   "source": [
    "## Performing the data analysis\n",
    "\n",
    "In the following cell:\n",
    "\n",
    "1- The average distance between the neighbourhood and each hospital is calculated\n",
    "\n",
    "2- The number of hospitals within a 2Km range is counted"
   ]
  },
  {
   "cell_type": "code",
   "execution_count": 6,
   "metadata": {},
   "outputs": [
    {
     "name": "stderr",
     "output_type": "stream",
     "text": [
      "C:\\Users\\Public\\Anaconda3\\lib\\site-packages\\ipykernel_launcher.py:9: DeprecationWarning: Vincenty is deprecated and is going to be removed in geopy 2.0. Use `geopy.distance.geodesic` (or the default `geopy.distance.distance`) instead, which is more accurate and always converges.\n",
      "  if __name__ == '__main__':\n"
     ]
    }
   ],
   "source": [
    "AvgDist=pd.DataFrame([])\n",
    "NearHos=pd.DataFrame([])\n",
    "for Nbrhd,LatN,LngN in zip(NYNeighborhoods['Neighborhood'],NYNeighborhoods['Latitude'],NYNeighborhoods['Longitude']):\n",
    "    Counter=0\n",
    "    TotalDist=0\n",
    "    for LatH,LngH in zip(UnHos['lat'],UnHos['lng']):\n",
    "        NN = (LatN, LngN)\n",
    "        HH = (LatH, LngH)\n",
    "        Distance= geopy.distance.vincenty(NN, HH).km\n",
    "        TotalDist=TotalDist+Distance\n",
    "        if Distance<=2:\n",
    "            Counter+=1\n",
    "    AvgDist=AvgDist.append([TotalDist/UnHos.shape[0]])\n",
    "    NearHos=NearHos.append([Counter])"
   ]
  },
  {
   "cell_type": "markdown",
   "metadata": {},
   "source": [
    "## The calculated quantities are combined in a dataframe to be joined with the neghbourhoods'dataframe"
   ]
  },
  {
   "cell_type": "code",
   "execution_count": 7,
   "metadata": {},
   "outputs": [
    {
     "data": {
      "text/html": [
       "<div>\n",
       "<style scoped>\n",
       "    .dataframe tbody tr th:only-of-type {\n",
       "        vertical-align: middle;\n",
       "    }\n",
       "\n",
       "    .dataframe tbody tr th {\n",
       "        vertical-align: top;\n",
       "    }\n",
       "\n",
       "    .dataframe thead th {\n",
       "        text-align: right;\n",
       "    }\n",
       "</style>\n",
       "<table border=\"1\" class=\"dataframe\">\n",
       "  <thead>\n",
       "    <tr style=\"text-align: right;\">\n",
       "      <th></th>\n",
       "      <th>NearHos</th>\n",
       "      <th>AvgDist</th>\n",
       "    </tr>\n",
       "  </thead>\n",
       "  <tbody>\n",
       "    <tr>\n",
       "      <th>301</th>\n",
       "      <td>27</td>\n",
       "      <td>12.264738</td>\n",
       "    </tr>\n",
       "    <tr>\n",
       "      <th>302</th>\n",
       "      <td>0</td>\n",
       "      <td>22.586070</td>\n",
       "    </tr>\n",
       "    <tr>\n",
       "      <th>303</th>\n",
       "      <td>3</td>\n",
       "      <td>22.610268</td>\n",
       "    </tr>\n",
       "    <tr>\n",
       "      <th>304</th>\n",
       "      <td>93</td>\n",
       "      <td>11.069510</td>\n",
       "    </tr>\n",
       "    <tr>\n",
       "      <th>305</th>\n",
       "      <td>3</td>\n",
       "      <td>20.389055</td>\n",
       "    </tr>\n",
       "  </tbody>\n",
       "</table>\n",
       "</div>"
      ],
      "text/plain": [
       "     NearHos    AvgDist\n",
       "301       27  12.264738\n",
       "302        0  22.586070\n",
       "303        3  22.610268\n",
       "304       93  11.069510\n",
       "305        3  20.389055"
      ]
     },
     "execution_count": 7,
     "metadata": {},
     "output_type": "execute_result"
    }
   ],
   "source": [
    "NewDf=pd.concat([NearHos, AvgDist], axis=1)\n",
    "NewDf.columns=['NearHos','AvgDist']\n",
    "NewDf=NewDf.reset_index(drop=True)\n",
    "NewDf.tail()"
   ]
  },
  {
   "cell_type": "code",
   "execution_count": 8,
   "metadata": {},
   "outputs": [
    {
     "data": {
      "text/html": [
       "<div>\n",
       "<style scoped>\n",
       "    .dataframe tbody tr th:only-of-type {\n",
       "        vertical-align: middle;\n",
       "    }\n",
       "\n",
       "    .dataframe tbody tr th {\n",
       "        vertical-align: top;\n",
       "    }\n",
       "\n",
       "    .dataframe thead th {\n",
       "        text-align: right;\n",
       "    }\n",
       "</style>\n",
       "<table border=\"1\" class=\"dataframe\">\n",
       "  <thead>\n",
       "    <tr style=\"text-align: right;\">\n",
       "      <th></th>\n",
       "      <th>Borough</th>\n",
       "      <th>Neighborhood</th>\n",
       "      <th>Latitude</th>\n",
       "      <th>Longitude</th>\n",
       "      <th>NearHos</th>\n",
       "      <th>AvgDist</th>\n",
       "    </tr>\n",
       "  </thead>\n",
       "  <tbody>\n",
       "    <tr>\n",
       "      <th>301</th>\n",
       "      <td>Manhattan</td>\n",
       "      <td>Hudson Yards</td>\n",
       "      <td>40.756658</td>\n",
       "      <td>-74.000111</td>\n",
       "      <td>27</td>\n",
       "      <td>12.264738</td>\n",
       "    </tr>\n",
       "    <tr>\n",
       "      <th>302</th>\n",
       "      <td>Queens</td>\n",
       "      <td>Hammels</td>\n",
       "      <td>40.587338</td>\n",
       "      <td>-73.805530</td>\n",
       "      <td>0</td>\n",
       "      <td>22.586070</td>\n",
       "    </tr>\n",
       "    <tr>\n",
       "      <th>303</th>\n",
       "      <td>Queens</td>\n",
       "      <td>Bayswater</td>\n",
       "      <td>40.611322</td>\n",
       "      <td>-73.765968</td>\n",
       "      <td>3</td>\n",
       "      <td>22.610268</td>\n",
       "    </tr>\n",
       "    <tr>\n",
       "      <th>304</th>\n",
       "      <td>Queens</td>\n",
       "      <td>Queensbridge</td>\n",
       "      <td>40.756091</td>\n",
       "      <td>-73.945631</td>\n",
       "      <td>93</td>\n",
       "      <td>11.069510</td>\n",
       "    </tr>\n",
       "    <tr>\n",
       "      <th>305</th>\n",
       "      <td>Staten Island</td>\n",
       "      <td>Fox Hills</td>\n",
       "      <td>40.617311</td>\n",
       "      <td>-74.081740</td>\n",
       "      <td>3</td>\n",
       "      <td>20.389055</td>\n",
       "    </tr>\n",
       "  </tbody>\n",
       "</table>\n",
       "</div>"
      ],
      "text/plain": [
       "           Borough  Neighborhood   Latitude  Longitude  NearHos    AvgDist\n",
       "301      Manhattan  Hudson Yards  40.756658 -74.000111       27  12.264738\n",
       "302         Queens       Hammels  40.587338 -73.805530        0  22.586070\n",
       "303         Queens     Bayswater  40.611322 -73.765968        3  22.610268\n",
       "304         Queens  Queensbridge  40.756091 -73.945631       93  11.069510\n",
       "305  Staten Island     Fox Hills  40.617311 -74.081740        3  20.389055"
      ]
     },
     "execution_count": 8,
     "metadata": {},
     "output_type": "execute_result"
    }
   ],
   "source": [
    "NYNeighborhoods=NYNeighborhoods.join(NewDf, how='inner')\n",
    "NYNeighborhoods.tail()"
   ]
  },
  {
   "cell_type": "markdown",
   "metadata": {},
   "source": [
    "## The results are saved in a CSV file for further use"
   ]
  },
  {
   "cell_type": "code",
   "execution_count": 116,
   "metadata": {},
   "outputs": [],
   "source": [
    "NYNeighborhoods.to_csv('NYNeighborhoodsWithHospitals.csv', index=False)"
   ]
  },
  {
   "cell_type": "markdown",
   "metadata": {},
   "source": [
    "## The data analysis is perfrmed on the next notebook:\n",
    "## NY Neighborhood Populations"
   ]
  },
  {
   "cell_type": "code",
   "execution_count": null,
   "metadata": {},
   "outputs": [],
   "source": []
  }
 ],
 "metadata": {
  "kernelspec": {
   "display_name": "Python 3",
   "language": "python",
   "name": "python3"
  },
  "language_info": {
   "codemirror_mode": {
    "name": "ipython",
    "version": 3
   },
   "file_extension": ".py",
   "mimetype": "text/x-python",
   "name": "python",
   "nbconvert_exporter": "python",
   "pygments_lexer": "ipython3",
   "version": "3.7.6"
  }
 },
 "nbformat": 4,
 "nbformat_minor": 4
}
